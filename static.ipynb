{
 "cells": [
  {
   "cell_type": "code",
   "execution_count": 3,
   "metadata": {},
   "outputs": [
    {
     "name": "stdout",
     "output_type": "stream",
     "text": [
      "2월 아파트 평균 가격(만원) : 104537.82953020134\n",
      "3월 아파트 평균 가격(만원) : 86951.29898989899\n"
     ]
    },
    {
     "data": {
      "text/html": [
       "<div>\n",
       "<style scoped>\n",
       "    .dataframe tbody tr th:only-of-type {\n",
       "        vertical-align: middle;\n",
       "    }\n",
       "\n",
       "    .dataframe tbody tr th {\n",
       "        vertical-align: top;\n",
       "    }\n",
       "\n",
       "    .dataframe thead th {\n",
       "        text-align: right;\n",
       "    }\n",
       "</style>\n",
       "<table border=\"1\" class=\"dataframe\">\n",
       "  <thead>\n",
       "    <tr style=\"text-align: right;\">\n",
       "      <th></th>\n",
       "      <th>T</th>\n",
       "      <th>dof</th>\n",
       "      <th>alternative</th>\n",
       "      <th>p-val</th>\n",
       "      <th>CI95%</th>\n",
       "      <th>cohen-d</th>\n",
       "      <th>BF10</th>\n",
       "      <th>power</th>\n",
       "    </tr>\n",
       "  </thead>\n",
       "  <tbody>\n",
       "    <tr>\n",
       "      <th>T-test</th>\n",
       "      <td>5.868286</td>\n",
       "      <td>1038.958757</td>\n",
       "      <td>two-sided</td>\n",
       "      <td>5.915944e-09</td>\n",
       "      <td>[11705.91, 23467.15]</td>\n",
       "      <td>0.22835</td>\n",
       "      <td>1.299e+06</td>\n",
       "      <td>0.995797</td>\n",
       "    </tr>\n",
       "  </tbody>\n",
       "</table>\n",
       "</div>"
      ],
      "text/plain": [
       "               T          dof alternative         p-val                 CI95%  \\\n",
       "T-test  5.868286  1038.958757   two-sided  5.915944e-09  [11705.91, 23467.15]   \n",
       "\n",
       "        cohen-d       BF10     power  \n",
       "T-test  0.22835  1.299e+06  0.995797  "
      ]
     },
     "execution_count": 3,
     "metadata": {},
     "output_type": "execute_result"
    }
   ],
   "source": [
    "from pingouin import ttest\n",
    "import pandas as pd\n",
    "\n",
    "df =  pd.read_csv('seoul_real_estate.csv',parse_dates = ['DEAL_YMD'])\n",
    "df['month'] = df['DEAL_YMD'].dt.month\n",
    "apt_df = df[(df['HOUSE_TYPE'] == '아파트') & (df['month'].isin([2,3]))]\n",
    "\n",
    "dec_df = apt_df[apt_df['month'] == 2]\n",
    "nov_df = apt_df[apt_df['month'] == 3]\n",
    "\n",
    "print('2월 아파트 평균 가격(만원) : {}'.format(dec_df['OBJ_AMT'].mean()))\n",
    "print('3월 아파트 평균 가격(만원) : {}'.format(nov_df['OBJ_AMT'].mean()))\n",
    "\n",
    "ttest(dec_df['OBJ_AMT'],nov_df['OBJ_AMT'], paired=False)"
   ]
  },
  {
   "cell_type": "code",
   "execution_count": 4,
   "metadata": {},
   "outputs": [
    {
     "data": {
      "image/png": "[encoded data removed]",
      "text/plain": [
       "<Figure size 640x480 with 1 Axes>"
      ]
     },
     "metadata": {},
     "output_type": "display_data"
    }
   ],
   "source": [
    "import seaborn as sns\n",
    "import matplotlib.pyplot as plt\n",
    "\n",
    "fig, ax = plt.subplots()\n",
    "sns.pointplot(x = 'month', y='OBJ_AMT', data=apt_df)\n",
    "sns.despine()\n",
    "\n",
    "plt.show()"
   ]
  },
  {
   "cell_type": "code",
   "execution_count": 6,
   "metadata": {},
   "outputs": [
    {
     "data": {
      "text/html": [
       "<div>\n",
       "<style scoped>\n",
       "    .dataframe tbody tr th:only-of-type {\n",
       "        vertical-align: middle;\n",
       "    }\n",
       "\n",
       "    .dataframe tbody tr th {\n",
       "        vertical-align: top;\n",
       "    }\n",
       "\n",
       "    .dataframe thead th {\n",
       "        text-align: right;\n",
       "    }\n",
       "</style>\n",
       "<table border=\"1\" class=\"dataframe\">\n",
       "  <thead>\n",
       "    <tr style=\"text-align: right;\">\n",
       "      <th></th>\n",
       "      <th>DEAL_YMD</th>\n",
       "      <th>mean</th>\n",
       "      <th>size</th>\n",
       "    </tr>\n",
       "  </thead>\n",
       "  <tbody>\n",
       "    <tr>\n",
       "      <th>0</th>\n",
       "      <td>2023-11-02</td>\n",
       "      <td>40337.500000</td>\n",
       "      <td>8</td>\n",
       "    </tr>\n",
       "    <tr>\n",
       "      <th>1</th>\n",
       "      <td>2023-11-03</td>\n",
       "      <td>45704.166667</td>\n",
       "      <td>12</td>\n",
       "    </tr>\n",
       "    <tr>\n",
       "      <th>2</th>\n",
       "      <td>2023-11-04</td>\n",
       "      <td>44820.833333</td>\n",
       "      <td>12</td>\n",
       "    </tr>\n",
       "    <tr>\n",
       "      <th>3</th>\n",
       "      <td>2023-11-05</td>\n",
       "      <td>40900.000000</td>\n",
       "      <td>2</td>\n",
       "    </tr>\n",
       "    <tr>\n",
       "      <th>4</th>\n",
       "      <td>2023-11-06</td>\n",
       "      <td>46228.571429</td>\n",
       "      <td>7</td>\n",
       "    </tr>\n",
       "    <tr>\n",
       "      <th>...</th>\n",
       "      <td>...</td>\n",
       "      <td>...</td>\n",
       "      <td>...</td>\n",
       "    </tr>\n",
       "    <tr>\n",
       "      <th>123</th>\n",
       "      <td>2024-03-11</td>\n",
       "      <td>53000.000000</td>\n",
       "      <td>3</td>\n",
       "    </tr>\n",
       "    <tr>\n",
       "      <th>124</th>\n",
       "      <td>2024-03-12</td>\n",
       "      <td>15000.000000</td>\n",
       "      <td>1</td>\n",
       "    </tr>\n",
       "    <tr>\n",
       "      <th>125</th>\n",
       "      <td>2024-03-13</td>\n",
       "      <td>45500.000000</td>\n",
       "      <td>1</td>\n",
       "    </tr>\n",
       "    <tr>\n",
       "      <th>126</th>\n",
       "      <td>2024-03-15</td>\n",
       "      <td>26400.000000</td>\n",
       "      <td>2</td>\n",
       "    </tr>\n",
       "    <tr>\n",
       "      <th>127</th>\n",
       "      <td>2024-03-16</td>\n",
       "      <td>43500.000000</td>\n",
       "      <td>1</td>\n",
       "    </tr>\n",
       "  </tbody>\n",
       "</table>\n",
       "<p>128 rows × 3 columns</p>\n",
       "</div>"
      ],
      "text/plain": [
       "      DEAL_YMD          mean  size\n",
       "0   2023-11-02  40337.500000     8\n",
       "1   2023-11-03  45704.166667    12\n",
       "2   2023-11-04  44820.833333    12\n",
       "3   2023-11-05  40900.000000     2\n",
       "4   2023-11-06  46228.571429     7\n",
       "..         ...           ...   ...\n",
       "123 2024-03-11  53000.000000     3\n",
       "124 2024-03-12  15000.000000     1\n",
       "125 2024-03-13  45500.000000     1\n",
       "126 2024-03-15  26400.000000     2\n",
       "127 2024-03-16  43500.000000     1\n",
       "\n",
       "[128 rows x 3 columns]"
      ]
     },
     "execution_count": 6,
     "metadata": {},
     "output_type": "execute_result"
    }
   ],
   "source": [
    "df =  pd.read_csv('seoul_real_estate.csv',parse_dates = ['DEAL_YMD'])\n",
    "sgg_df = df[df['SGG_NM'] == '구로구']\n",
    "\n",
    "mean_size = sgg_df.groupby('DEAL_YMD')['OBJ_AMT'].agg(['mean','size']).reset_index()\n",
    "mean_size"
   ]
  }
 ],
 "metadata": {
  "kernelspec": {
   "display_name": "Python 3",
   "language": "python",
   "name": "python3"
  },
  "language_info": {
   "codemirror_mode": {
    "name": "ipython",
    "version": 3
   },
   "file_extension": ".py",
   "mimetype": "text/x-python",
   "name": "python",
   "nbconvert_exporter": "python",
   "pygments_lexer": "ipython3",
   "version": "3.10.11"
  }
 },
 "nbformat": 4,
 "nbformat_minor": 2
}
